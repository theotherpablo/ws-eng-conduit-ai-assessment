{
  "cells": [
    {
      "cell_type": "markdown",
      "metadata": {
        "id": "view-in-github",
        "colab_type": "text"
      },
      "source": [
        "<a href=\"https://colab.research.google.com/github/theotherpablo/ws-eng-conduit-ai-assessment/blob/master/Solving_Business_Problems_with_AI.ipynb\" target=\"_parent\"><img src=\"https://colab.research.google.com/assets/colab-badge.svg\" alt=\"Open In Colab\"/></a>"
      ]
    },
    {
      "cell_type": "markdown",
      "metadata": {
        "id": "e0n49UaWPGAd"
      },
      "source": [
        "# Solving Business Problems with AI\n",
        "\n",
        "## Objective\n",
        "Develop a proof of concept application that intelligently processes email order requests and customer inquiries for a fashion store. The system should categorize emails into product inquiries or order requests and generate appropriate responses based on product catalog information and stock status.\n",
        "\n",
        "## Task Description\n",
        "\n",
        "### Inputs\n",
        "\n",
        "Google Spreadsheet **[Document](https://docs.google.com/spreadsheets/d/14fKHsblfqZfWj3iAaM2oA51TlYfQlFT4WKo52fVaQ9U)** containing:\n",
        "\n",
        "- **Products**: List of products with fields including product ID, name, category, stock amount, detailed description, and season.\n",
        "\n",
        "- **Emails**: Sequential list of emails with fields such as email ID, subject, and body.\n",
        "\n",
        "## Instructions\n",
        "\n",
        "- All requirements have to be implemented with the use of LLMs to handle complex tasks, process extensive data, and generate accurate outputs effectively.\n",
        "- Because solving this assessment requires using advanced LLM capabilities, we provide you with a temporary OpenAI API key granting access to GPT-4o. You can use this key or your own, but please note that the provided key has a token quota, so use it wisely. We have carefully adjusted the limits to ensure they are sufficient for you to complete the task.\n",
        "- Address the requirements in the order listed. Please review the requirements ahead to have a general implementation plan in place before you start.\n",
        "- Your deliverables should include the code developed within this notebook, and a spreadsheet containing results across separate sheets. Comments detailing your thought process are appreciated.\n",
        "- You are allowed to use additional libraries (langchain, etc.) in order to make solution more concise.\n",
        "\n",
        "### Requirements\n",
        "\n",
        "#### 1. Classify emails\n",
        "    \n",
        "Classify each email as either a _**\"product inquiry\"**_ or an _**\"order request\"**_. Ensure that the classification accurately reflects the intent of the email.\n",
        "\n",
        "**Output:**: Populate the **email-classification** sheet with columns: email ID, category.\n",
        "\n",
        "#### 2. Process order requests\n",
        "1.   Process order requests in the order they are received. For each request, verify product availability in stock. If the order can be fully fulfilled, create a new order line with the status **created**. If the order cannot be fully fulfilled, create a line with the status **out of stock**. After placing the order, update the stock to accurately reflect the current inventory levels.\n",
        "\n",
        "    **Output**: Populate the **order-status** sheet with columns: email ID, product ID, quantity, status (**_\"created\"_**, **_\"out of stock\"_**).\n",
        "\n",
        "2.   Generate and save response emails based on order processing results. Depending on the order status email should inform customer that their order was processed or could not be fulfilled. If the order was successfully processed, send an email to the customer informing them that their order has been processed, including details like the product name and quantity. If the order could not be fulfilled due to insufficient stock, send an email explaining the situation and specifying which items are out of stock. Optionally, offer options such as waiting for restock or choosing alternative products. Do your best to make an email look production ready!\n",
        "\n",
        "    **Output**: Populate the **order-response** sheet with columns: email ID, response.\n",
        "\n",
        "### 3. Handle product inquiry\n",
        "\n",
        "Customers may ask general open questions.\n",
        "- Respond to product inquiries using the information from the product catalog.\n",
        "- Ensure that solution you provide scales well to handle the full catalog of over 100,000 products. This means that solutions which include raw product catalog in the prompt will be rated lower!\n",
        "\n",
        "**Output**: Populate the **inquiry-response** sheet with columns: email ID, response.\n",
        "\n",
        "## Evaluation Criteria\n",
        "\n",
        "- **Utilization of AI Tools**: Effectiveness in leveraging AI technologies provided (e.g., OpenAI API) to fulfill the task requirements. Employ your knowledge of various AI driven development techniques depending on the task.\n",
        "- **Code Completeness**: All functionalities outlined in the requirements must be fully implemented and operational.\n",
        "- **Code Quality and Clarity**: Code should be well-organized with clear logic and structure.\n",
        "- **Presence of Expected Outputs**: All specified outputs must be correctly generated and saved in the appropriate sheets of the spreadsheet. Double check before submitting!\n",
        "\n",
        "We look forward to seeing your solution and how you approach solving real-world problems using AI technologies."
      ]
    },
    {
      "cell_type": "markdown",
      "metadata": {
        "id": "GOUEcKe-xSPr"
      },
      "source": [
        "# Prerequisites"
      ]
    },
    {
      "cell_type": "markdown",
      "metadata": {
        "id": "otSVe-sQ-CsW"
      },
      "source": [
        "### Configure OpenAI API Key."
      ]
    },
    {
      "cell_type": "code",
      "execution_count": 3,
      "metadata": {
        "id": "UvOkHAkDghww",
        "outputId": "068a7095-788e-406b-d003-41f273d20342",
        "colab": {
          "base_uri": "https://localhost:8080/"
        }
      },
      "outputs": [
        {
          "output_type": "stream",
          "name": "stdout",
          "text": [
            "Requirement already satisfied: openai in /usr/local/lib/python3.10/dist-packages (1.40.1)\n",
            "Requirement already satisfied: anyio<5,>=3.5.0 in /usr/local/lib/python3.10/dist-packages (from openai) (3.7.1)\n",
            "Requirement already satisfied: distro<2,>=1.7.0 in /usr/lib/python3/dist-packages (from openai) (1.7.0)\n",
            "Requirement already satisfied: httpx<1,>=0.23.0 in /usr/local/lib/python3.10/dist-packages (from openai) (0.27.0)\n",
            "Requirement already satisfied: jiter<1,>=0.4.0 in /usr/local/lib/python3.10/dist-packages (from openai) (0.5.0)\n",
            "Requirement already satisfied: pydantic<3,>=1.9.0 in /usr/local/lib/python3.10/dist-packages (from openai) (2.8.2)\n",
            "Requirement already satisfied: sniffio in /usr/local/lib/python3.10/dist-packages (from openai) (1.3.1)\n",
            "Requirement already satisfied: tqdm>4 in /usr/local/lib/python3.10/dist-packages (from openai) (4.66.5)\n",
            "Requirement already satisfied: typing-extensions<5,>=4.11 in /usr/local/lib/python3.10/dist-packages (from openai) (4.12.2)\n",
            "Requirement already satisfied: idna>=2.8 in /usr/local/lib/python3.10/dist-packages (from anyio<5,>=3.5.0->openai) (3.7)\n",
            "Requirement already satisfied: exceptiongroup in /usr/local/lib/python3.10/dist-packages (from anyio<5,>=3.5.0->openai) (1.2.2)\n",
            "Requirement already satisfied: certifi in /usr/local/lib/python3.10/dist-packages (from httpx<1,>=0.23.0->openai) (2024.7.4)\n",
            "Requirement already satisfied: httpcore==1.* in /usr/local/lib/python3.10/dist-packages (from httpx<1,>=0.23.0->openai) (1.0.5)\n",
            "Requirement already satisfied: h11<0.15,>=0.13 in /usr/local/lib/python3.10/dist-packages (from httpcore==1.*->httpx<1,>=0.23.0->openai) (0.14.0)\n",
            "Requirement already satisfied: annotated-types>=0.4.0 in /usr/local/lib/python3.10/dist-packages (from pydantic<3,>=1.9.0->openai) (0.7.0)\n",
            "Requirement already satisfied: pydantic-core==2.20.1 in /usr/local/lib/python3.10/dist-packages (from pydantic<3,>=1.9.0->openai) (2.20.1)\n"
          ]
        }
      ],
      "source": [
        "# Install the OpenAI Python package.\n",
        "%pip install openai"
      ]
    },
    {
      "cell_type": "code",
      "execution_count": 5,
      "metadata": {
        "id": "caEG5zIMw8DV",
        "outputId": "35def5a8-1adf-4014-a18c-530f80536687",
        "colab": {
          "base_uri": "https://localhost:8080/"
        }
      },
      "outputs": [
        {
          "output_type": "stream",
          "name": "stdout",
          "text": [
            "ChatCompletionMessage(content='Hello! How can I assist you today?', refusal=None, role='assistant', function_call=None, tool_calls=None)\n"
          ]
        }
      ],
      "source": [
        "# Code example of OpenAI communication\n",
        "\n",
        "from openai import OpenAI\n",
        "\n",
        "client = OpenAI(\n",
        "    # In order to use provided API key, make sure that models you create point to this custom base URL.\n",
        "    base_url='https://47v4us7kyypinfb5lcligtc3x40ygqbs.lambda-url.us-east-1.on.aws/v1/',\n",
        "    # The temporary API key giving access to ChatGPT 4o model. Quotas apply: you have 500'000 input and 500'000 output tokens, use them wisely ;)\n",
        "    api_key='a0BIj000001L8hZMAS'\n",
        ")\n",
        "\n",
        "completion = client.chat.completions.create(\n",
        "  model=\"gpt-4o\",\n",
        "  messages=[\n",
        "    {\"role\": \"user\", \"content\": \"Hello!\"}\n",
        "  ]\n",
        ")\n",
        "\n",
        "print(completion.choices[0].message)"
      ]
    },
    {
      "cell_type": "code",
      "source": [
        "# Code example of reading input data\n",
        "\n",
        "import pandas as pd\n",
        "from IPython.display import display\n",
        "\n",
        "def read_data_frame(document_id, sheet_name):\n",
        "    export_link = f\"https://docs.google.com/spreadsheets/d/{document_id}/gviz/tq?tqx=out:csv&sheet={sheet_name}\"\n",
        "    return  pd.read_csv(export_link)\n",
        "\n",
        "document_id = '14fKHsblfqZfWj3iAaM2oA51TlYfQlFT4WKo52fVaQ9U'\n",
        "products_df = read_data_frame(document_id, 'products')\n",
        "emails_df = read_data_frame(document_id, 'emails')\n",
        "\n",
        "# Display first 3 rows of each DataFrame\n",
        "display(products_df.head(3))\n",
        "display(emails_df.head(3))"
      ],
      "metadata": {
        "id": "shE97VzGwZ4v"
      },
      "execution_count": null,
      "outputs": []
    },
    {
      "cell_type": "markdown",
      "metadata": {
        "id": "zyvqJ-BUNKQR"
      },
      "source": [
        "# Task 1. Classify emails"
      ]
    },
    {
      "cell_type": "markdown",
      "metadata": {
        "id": "lm3ZeatjYjM3"
      },
      "source": [
        "# Task 2. Process order requests"
      ]
    },
    {
      "cell_type": "markdown",
      "metadata": {
        "id": "29ExT_MQRhos"
      },
      "source": [
        "# Task 3. Handle product inquiry"
      ]
    }
  ],
  "metadata": {
    "colab": {
      "provenance": [],
      "include_colab_link": true
    },
    "kernelspec": {
      "display_name": "Python 3",
      "name": "python3"
    },
    "language_info": {
      "name": "python"
    }
  },
  "nbformat": 4,
  "nbformat_minor": 0
}